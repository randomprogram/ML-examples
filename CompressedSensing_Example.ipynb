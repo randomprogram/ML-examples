{
  "nbformat": 4,
  "nbformat_minor": 0,
  "metadata": {
    "colab": {
      "name": "CompressedSensing-Example.ipynb",
      "version": "0.3.2",
      "provenance": [],
      "collapsed_sections": [],
      "include_colab_link": true
    },
    "kernelspec": {
      "name": "python2",
      "display_name": "Python 2"
    }
  },
  "cells": [
    {
      "cell_type": "markdown",
      "metadata": {
        "id": "view-in-github",
        "colab_type": "text"
      },
      "source": [
        "<a href=\"https://colab.research.google.com/github/randomprogram/ML-examples/blob/master/CompressedSensing_Example.ipynb\" target=\"_parent\"><img src=\"https://colab.research.google.com/assets/colab-badge.svg\" alt=\"Open In Colab\"/></a>"
      ]
    },
    {
      "cell_type": "markdown",
      "metadata": {
        "id": "kcA9OZKbiowO",
        "colab_type": "text"
      },
      "source": [
        "#** A Quick Introduction to Compressed Sensing.**\n",
        "by Deqiang Qiu at Computational Neuroimaging and Neuroscience Lab (CN2L) at Emory University (http://randomprogram.net)\n",
        "\n",
        "You may click the \"Open in Colab\" button above to run the codes in this demo yourself.\n",
        "##General Theory\n",
        "\n",
        "Consider the following linear equation:\n",
        "\n",
        "$A\\cdot X =b$, where $A\\in R^{m\\times n}$, $X \\in R^{n \\times 1}$ and $b \\in R^{n \\times 1}$. \n",
        "\n",
        "when $m < n$ (i.e. there are less number of equations than the number of unknowns) the system is underdetermined and there are infinite number of $X$ that satisfy the equation. However, there is recent theoratical and practical efforts that show that when $X$ is sparse (meaning many of the elements of $X$ are zero ) and matrix $A$ satistifies certain requirement, $X$ can be recovered exactly. Theory proves that when the entries of $A$ are random, $X$ can be recovered with probability approaching 1. In practice, $A$ can be random selection of Fourier transformation or discrete consine transformation. Under the condition that the measurement of $b$ is noisy, which is often the case, the solution is obtained by solving the following convex optimization problem:\n",
        "\n",
        "$X^* = \\underset{X}{argmin} { } |A\\cdot X - b|_2^2 + \\lambda |X|_1$\n",
        "\n",
        "where the first term on the right hand side of the equation encourages data fit, and the second term is the L1 norm of $X$, which is what drives the solution to be sparse compared to say a L2 norm.\n",
        "\n",
        "References: \n",
        "1. . J. Candès, J. Romberg and T. Tao. Robust uncertainty principles: exact signal reconstruction from highly incomplete frequency information. IEEE Trans. Inform. Theory, 52 489-509. \n",
        "\n",
        "\n",
        "\n",
        "\n"
      ]
    },
    {
      "cell_type": "markdown",
      "metadata": {
        "id": "eLs9Ii5Ut0_B",
        "colab_type": "text"
      },
      "source": [
        "##Demo\n",
        "Some part of the demo was inspired by [this nice demo](http://www.pyrunner.com/weblog/2016/05/26/compressed-sensing-python/), please note in that demonstration, it is assumed that there is sparsity in the frequency domain, and sampling happens in the image domain. This is not how CS is typically done.\n",
        "###L1 norm fit vs L2 norm fit\n",
        "Consider a function\n",
        "\n",
        "$y = 0.5 x + 3 + \\epsilon \\tag {Eq. 1}$\n",
        "\n",
        ", where $\\epsilon \\in \\textbf {N}(0,\\sigma)$, i.e. $\\epsilon$ is a random variable with normal distribution with zero mean and a standard deviation of $\\sigma$.\n",
        "\n",
        "We will generate a random data points using this equation"
      ]
    },
    {
      "cell_type": "code",
      "metadata": {
        "id": "KSau1egUtqku",
        "colab_type": "code",
        "colab": {}
      },
      "source": [
        "#import libraries needed\n",
        "import numpy as np\n",
        "import matplotlib as mpl\n",
        "import matplotlib.pyplot as plt\n",
        "import scipy.optimize as spopt\n",
        "import scipy.fftpack as spfft\n",
        "import scipy.ndimage as spimg\n",
        "import cvxpy as cvx"
      ],
      "execution_count": 0,
      "outputs": []
    },
    {
      "cell_type": "code",
      "metadata": {
        "id": "SdHSTSv6wBn8",
        "colab_type": "code",
        "outputId": "f3829ebb-128d-41a2-cfda-840284519206",
        "colab": {
          "base_uri": "https://localhost:8080/",
          "height": 287
        }
      },
      "source": [
        "#generate x, y and plot them\n",
        "x = np.linspace(0, 15, 30)\n",
        "std = 1\n",
        "y = 0.5 * x + 3 + np.random.normal(0,std,len(x))\n",
        "plt.plot(x, y,'o')\n",
        "plt.legend(['data point'])"
      ],
      "execution_count": 2,
      "outputs": [
        {
          "output_type": "execute_result",
          "data": {
            "text/plain": [
              "<matplotlib.legend.Legend at 0x7f3c5012d510>"
            ]
          },
          "metadata": {
            "tags": []
          },
          "execution_count": 2
        },
        {
          "output_type": "display_data",
          "data": {
            "image/png": "[encoded data removed]",
            "text/plain": [
              "<Figure size 432x288 with 1 Axes>"
            ]
          },
          "metadata": {
            "tags": []
          }
        }
      ]
    },
    {
      "cell_type": "markdown",
      "metadata": {
        "id": "2dwjCxBrxQxG",
        "colab_type": "text"
      },
      "source": [
        "We then use the optimize module from scipy to perform a linear fit to the data by minimizing L1 norm and L2 norm of the residuals, i.e. the misfit between the linear model and the actual data. If we do well we should get a slope close to 0.5 and an intercept close to 3 (see Eq. 1)."
      ]
    },
    {
      "cell_type": "code",
      "metadata": {
        "id": "DibgShMnyc8F",
        "colab_type": "code",
        "outputId": "87c18192-9c15-4e7d-819b-6cf8205493b4",
        "colab": {
          "base_uri": "https://localhost:8080/",
          "height": 460
        }
      },
      "source": [
        "# form a linear model by defining an function, coeff[0] is the intercept and coeff[1] is the slope\n",
        "linModel = lambda coeff, x: coeff[0] + coeff[1] * x\n",
        "\n",
        "#we then construct the usual L2 norm (in fact, the square of it) of the residual (difference between model predicted values and the actual value y)\n",
        "l2_fit = lambda coeff, x, y: np.sum(np.power(y-linModel(coeff,x),2))\n",
        "\n",
        "#use fmin from scipy.optimize to perform the optimization\n",
        "xopt_l2 = spopt.fmin(func=l2_fit, x0=[1,1], args=(x, y))\n",
        "l2_predicted = linModel(xopt_l2, x)\n",
        "print(\"Fit from L2 norm optimization: Intercept:%f, slope:%f\" % (xopt_l2[0], xopt_l2[1]) )\n",
        "\n",
        "#we then construct L1 norm of the residual (difference between model predicted values and the actual value y)\n",
        "l1_fit = lambda coeff, x, y: np.sum(np.abs(y-linModel(coeff,x)))\n",
        "#use fmin from scipy.optimize to perform the optimization\n",
        "xopt_l1 = spopt.fmin(func=l1_fit, x0=[1,1], args=(x, y))\n",
        "l1_predicted = linModel(xopt_l1, x)\n",
        "print(\"Fit from L1 norm optimization: Intercept:%f, slope:%f\" % (xopt_l1[0], xopt_l1[1]) )\n",
        "\n",
        "#visualize\n",
        "\n",
        "plt.plot(x, y, 'o', x, l2_predicted, '-b', x, l1_predicted, '-r')\n",
        "plt.legend(['data point','L2 fit', 'L1 fit'])"
      ],
      "execution_count": 3,
      "outputs": [
        {
          "output_type": "stream",
          "text": [
            "Optimization terminated successfully.\n",
            "         Current function value: 30.247659\n",
            "         Iterations: 48\n",
            "         Function evaluations: 94\n",
            "Fit from L2 norm optimization: Intercept:3.374738, slope:0.445949\n",
            "Optimization terminated successfully.\n",
            "         Current function value: 23.998725\n",
            "         Iterations: 50\n",
            "         Function evaluations: 95\n",
            "Fit from L1 norm optimization: Intercept:3.005078, slope:0.503279\n"
          ],
          "name": "stdout"
        },
        {
          "output_type": "execute_result",
          "data": {
            "text/plain": [
              "<matplotlib.legend.Legend at 0x7f3c4d8b8c50>"
            ]
          },
          "metadata": {
            "tags": []
          },
          "execution_count": 3
        },
        {
          "output_type": "display_data",
          "data": {
            "image/png": "[encoded data removed]",
            "text/plain": [
              "<Figure size 432x288 with 1 Axes>"
            ]
          },
          "metadata": {
            "tags": []
          }
        }
      ]
    },
    {
      "cell_type": "markdown",
      "metadata": {
        "id": "VST_IYNkxGVw",
        "colab_type": "text"
      },
      "source": [
        ""
      ]
    },
    {
      "cell_type": "markdown",
      "metadata": {
        "id": "KoOCzTg1xgSh",
        "colab_type": "text"
      },
      "source": [
        "##Behaviors of L2 and L1 norm in data with outliers\n",
        "L2 norm heavily penalize large values because of the square operation compared to L1, which only calculates absolute value. This translates to large differences in outliers, where there are a few large residuals. Let's make the comparison here."
      ]
    },
    {
      "cell_type": "code",
      "metadata": {
        "id": "MTQIEhlHumah",
        "colab_type": "code",
        "outputId": "56a0dd49-d15e-455a-964e-1b98e68bbeb3",
        "colab": {
          "base_uri": "https://localhost:8080/",
          "height": 425
        }
      },
      "source": [
        "y_out = y.copy()\n",
        "#we add two outliers below\n",
        "y_out[0] = 20\n",
        "y_out[-1] = 0\n",
        "\n",
        "xopt_l2out = spopt.fmin(func=l2_fit, x0=[1,1], args=(x, y_out))\n",
        "xopt_l1out = spopt.fmin(func=l1_fit, x0=[1,1], args=(x, y_out))\n",
        "\n",
        "plt.plot(x, y_out, 'o',  x, linModel(xopt_l2,x), '--b', x, linModel(xopt_l2out,x), '-b',x, linModel(xopt_l1,x), '--r', x, linModel(xopt_l1out,x), '-r')\n",
        "plt.legend(['data point','L2 fit without outliers', 'L2 fit with outliers', 'L1 fit without outliers', 'L1 fit with outliers'])\n"
      ],
      "execution_count": 4,
      "outputs": [
        {
          "output_type": "stream",
          "text": [
            "Optimization terminated successfully.\n",
            "         Current function value: 336.697713\n",
            "         Iterations: 55\n",
            "         Function evaluations: 105\n",
            "Optimization terminated successfully.\n",
            "         Current function value: 49.135456\n",
            "         Iterations: 66\n",
            "         Function evaluations: 124\n"
          ],
          "name": "stdout"
        },
        {
          "output_type": "execute_result",
          "data": {
            "text/plain": [
              "<matplotlib.legend.Legend at 0x7f3c4d8b8b50>"
            ]
          },
          "metadata": {
            "tags": []
          },
          "execution_count": 4
        },
        {
          "output_type": "display_data",
          "data": {
            "image/png": "[encoded data removed]",
            "text/plain": [
              "<Figure size 432x288 with 1 Axes>"
            ]
          },
          "metadata": {
            "tags": []
          }
        }
      ]
    },
    {
      "cell_type": "markdown",
      "metadata": {
        "id": "qrQEe2MD2Vag",
        "colab_type": "text"
      },
      "source": [
        "As shown above, minimizing L1 norm of the error is much robust to outliers compared to L2 norm since it doesn't care so much of having a few large residuals.\n",
        "###Compressed sensing in 1D\n"
      ]
    },
    {
      "cell_type": "code",
      "metadata": {
        "id": "ot4pLN0iAFQZ",
        "colab_type": "code",
        "outputId": "f8780468-ced2-47eb-c5d0-dec0eb585889",
        "colab": {
          "base_uri": "https://localhost:8080/",
          "height": 287
        }
      },
      "source": [
        "# generate sparsity level\n",
        "sz = 256;\n",
        "k = 10 #sparsity level\n",
        "sig = np.zeros(sz)\n",
        "ind = np.random.permutation(np.arange(0,sz))\n",
        "ind = ind[0:k]\n",
        "sig[ind] = np.random.random(k)*100-30\n",
        "\n",
        "plt.plot(sig,'o',mfc='none')\n",
        "\n"
      ],
      "execution_count": 5,
      "outputs": [
        {
          "output_type": "execute_result",
          "data": {
            "text/plain": [
              "[<matplotlib.lines.Line2D at 0x7f3c4d735bd0>]"
            ]
          },
          "metadata": {
            "tags": []
          },
          "execution_count": 5
        },
        {
          "output_type": "display_data",
          "data": {
            "image/png": "[encoded data removed]",
            "text/plain": [
              "<Figure size 432x288 with 1 Axes>"
            ]
          },
          "metadata": {
            "tags": []
          }
        }
      ]
    },
    {
      "cell_type": "code",
      "metadata": {
        "id": "sqWOOheun5Rf",
        "colab_type": "code",
        "colab": {}
      },
      "source": [
        "FFT = np.fft.fft(np.eye(sz))\n",
        "#FFT = spfft.dct(np.identity(sz),norm='ortho', axis=0)\n",
        "sd = 30 #we take 30 out of 256 samples\n",
        "kind = np.random.choice(sz,sd,replace=False)\n",
        "subFFT = FFT[kind,:]\n",
        "\n",
        "\n",
        "#show\n",
        "# plt.subplot(1,2,1)\n",
        "# plt.imshow(np.real(subFFT))\n",
        "# plt.subplot(1,2,2)\n",
        "# plt.imshow(np.imag(subFFT))\n",
        "\n",
        "#here y is our noise free measurement\n",
        "y = np.matmul(subFFT, sig)"
      ],
      "execution_count": 0,
      "outputs": []
    },
    {
      "cell_type": "markdown",
      "metadata": {
        "id": "WaUUEqfq65ki",
        "colab_type": "text"
      },
      "source": [
        "##Constrainted Optimization method:\n",
        "When the measurement is noise free, we can solve the constrainted optmization problem below:\n",
        "\n",
        "$min |X|_1$\n",
        "\n",
        "$s.t. A\\cdot X = b$\n",
        " \n",
        "Here we use CVXPY to solve the problem."
      ]
    },
    {
      "cell_type": "code",
      "metadata": {
        "id": "5eTVGCuV2S2t",
        "colab_type": "code",
        "colab": {
          "base_uri": "https://localhost:8080/",
          "height": 287
        },
        "outputId": "ac873f80-c6ad-4d8f-9806-847fbea62338"
      },
      "source": [
        "#solve it by l1 norm optimization\n",
        "x = cvx.Variable(sz)\n",
        "obj = cvx.Minimize(cvx.norm(x,1))\n",
        "constraint = [cvx.matmul(subFFT, x) == y]\n",
        "prob = cvx.Problem(obj,constraint)\n",
        "result = prob.solve()\n",
        "\n",
        "plt.plot(sig,'o',np.real(x.value))\n",
        "plt.legend(['True signal','recovered signal'])"
      ],
      "execution_count": 7,
      "outputs": [
        {
          "output_type": "execute_result",
          "data": {
            "text/plain": [
              "<matplotlib.legend.Legend at 0x7f3c56be9210>"
            ]
          },
          "metadata": {
            "tags": []
          },
          "execution_count": 7
        },
        {
          "output_type": "display_data",
          "data": {
            "image/png": "[encoded data removed]",
            "text/plain": [
              "<Figure size 432x288 with 1 Axes>"
            ]
          },
          "metadata": {
            "tags": []
          }
        }
      ]
    },
    {
      "cell_type": "markdown",
      "metadata": {
        "id": "VtNzR1-b2cKe",
        "colab_type": "text"
      },
      "source": [
        "##Unconstrainted optimization approach\n",
        "For noisy measurement of signal, we could also formulate the problem as unconstrained optimization problem.\n",
        "$X^* = \\underset{X}{argmin} { } |A\\cdot X - b|_2^2 + \\lambda |X|_1$\n",
        "\n"
      ]
    },
    {
      "cell_type": "code",
      "metadata": {
        "id": "JJdl-z4bB5hz",
        "colab_type": "code",
        "outputId": "fb016c2d-aa48-4f56-bd54-f7b05e33d1c5",
        "colab": {
          "base_uri": "https://localhost:8080/",
          "height": 287
        }
      },
      "source": [
        "#solve it by unconstrained l1 norm optimization\n",
        "x = cvx.Variable(sz)\n",
        "l = 1\n",
        "obj = cvx.Minimize(cvx.norm(cvx.matmul(subFFT, x) - y,2)+l*cvx.norm(x,1))\n",
        "constraint = []\n",
        "prob = cvx.Problem(obj,constraint)\n",
        "result = prob.solve()\n",
        "\n",
        "plt.plot(sig,'o',np.real(x.value))\n",
        "plt.legend(['True signal','recovered signal'])"
      ],
      "execution_count": 9,
      "outputs": [
        {
          "output_type": "execute_result",
          "data": {
            "text/plain": [
              "<matplotlib.legend.Legend at 0x7f3c4d575950>"
            ]
          },
          "metadata": {
            "tags": []
          },
          "execution_count": 9
        },
        {
          "output_type": "display_data",
          "data": {
            "image/png": "[encoded data removed]",
            "text/plain": [
              "<Figure size 432x288 with 1 Axes>"
            ]
          },
          "metadata": {
            "tags": []
          }
        }
      ]
    },
    {
      "cell_type": "markdown",
      "metadata": {
        "id": "0UBibD3qRyda",
        "colab_type": "text"
      },
      "source": [
        "**If you are not amazed by the above result, you should be.** Because it shows that we could recover the signal exactly using only about **10%** (30 out of 256) the measurements that would required using convential signal processing theory. The lies in the fact that we know the signal to be sparse *a priori*."
      ]
    }
  ]
}
