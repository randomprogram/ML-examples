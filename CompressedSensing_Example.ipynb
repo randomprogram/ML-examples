{
  "nbformat": 4,
  "nbformat_minor": 0,
  "metadata": {
    "colab": {
      "name": "CompressedSensing-Example.ipynb",
      "version": "0.3.2",
      "provenance": [],
      "collapsed_sections": [],
      "include_colab_link": true
    },
    "kernelspec": {
      "name": "python3",
      "display_name": "Python 3"
    }
  },
  "cells": [
    {
      "cell_type": "markdown",
      "metadata": {
        "id": "view-in-github",
        "colab_type": "text"
      },
      "source": [
        "<a href=\"https://colab.research.google.com/github/randomprogram/ML-examples/blob/master/CompressedSensing_Example.ipynb\" target=\"_parent\"><img src=\"https://colab.research.google.com/assets/colab-badge.svg\" alt=\"Open In Colab\"/></a>"
      ]
    },
    {
      "metadata": {
        "id": "kcA9OZKbiowO",
        "colab_type": "text"
      },
      "cell_type": "markdown",
      "source": [
        "#**Compressed Sensing example.**\n",
        "by Deqiang Qiu at Computational Neuroimaging and Neuroscience Lab (CN2L) at Emory University\n",
        "##General Theory\n",
        "\n",
        "Consider the following linear equation:\n",
        "\n",
        "$A\\cdot X =b$, where $A\\in R^{m\\times n}$, $X \\in R^{n \\times 1}$ and $b \\in R^{n \\times 1}$. \n",
        "\n",
        "when $m < n$ (i.e. there are less number of equations than the number of unknowns) the system is underdetermined and there are infinite number of $X$ that satisfy the equation. However, there is recent theoratical and practical efforts that show that when $X$ is sparse (meaning many of the elements of $X$ are zero ) and matrix $A$ satistifies certain requirement, $X$ can be recovered exactly. Theory proves that when the entries of $A$ are random, $X$ can be recovered with probability approaching 1. In practice, $A$ can be random selection of Fourier transformation or discrete consine transformation. Under the condition that the measurement of $b$ is noisy, which is often the case, the solution is obtained by solving the following convex optimization problem:\n",
        "\n",
        "$X^* = \\underset{X}{argmin} { } |A\\cdot X - b|_2^2 + \\lambda |X|_1$\n",
        "\n",
        "where the first term on the right hand side of the equation encourages data fit, and the second term is the L1 norm of $X$, which is what drives the solution to be sparse compared to say a L2 norm.\n",
        "\n",
        "References: \n",
        "1. . J. Candès, J. Romberg and T. Tao. Robust uncertainty principles: exact signal reconstruction from highly incomplete frequency information. IEEE Trans. Inform. Theory, 52 489-509. \n",
        "\n",
        "\n",
        "\n",
        "\n"
      ]
    },
    {
      "metadata": {
        "id": "eLs9Ii5Ut0_B",
        "colab_type": "text"
      },
      "cell_type": "markdown",
      "source": [
        "##Demo\n",
        "Some of the codes are based on [this nice demo](http://www.pyrunner.com/weblog/2016/05/26/compressed-sensing-python/)\n",
        "###L1 norm fit vs L2 norm fit\n",
        "Consider a function\n",
        "\n",
        "$y = 0.5 x + 3 + \\epsilon \\tag {Eq. 1}$\n",
        "\n",
        ", where $\\epsilon \\in \\textbf {N}(0,\\delta)$, i.e. $\\epsilon$ is a random variable with normal distribution with zero mean and a standard deviation of $\\delta$.\n",
        "\n",
        "We will generate a random data points using this equation"
      ]
    },
    {
      "metadata": {
        "id": "KSau1egUtqku",
        "colab_type": "code",
        "colab": {}
      },
      "cell_type": "code",
      "source": [
        "#import libraries needed\n",
        "import numpy as np\n",
        "import matplotlib as mpl\n",
        "import matplotlib.pyplot as plt\n",
        "import scipy.optimize as spopt\n",
        "import scipy.fftpack as spfft\n",
        "import scipy.ndimage as spimg\n",
        "import cvxpy as cvx"
      ],
      "execution_count": 0,
      "outputs": []
    },
    {
      "metadata": {
        "id": "SdHSTSv6wBn8",
        "colab_type": "code",
        "colab": {
          "base_uri": "https://localhost:8080/",
          "height": 286
        },
        "outputId": "058c68b3-b314-44a2-ab50-b2aa389ea496"
      },
      "cell_type": "code",
      "source": [
        "#generate x, y and plot them\n",
        "x = np.linspace(0, 15, 20)\n",
        "std = 1\n",
        "y = 0.5 * x + 3 + np.random.normal(0,std,len(x))\n",
        "plt.plot(x, y,'o')\n",
        "plt.legend(['data point'])"
      ],
      "execution_count": 4,
      "outputs": [
        {
          "output_type": "execute_result",
          "data": {
            "text/plain": [
              "<matplotlib.legend.Legend at 0x7fd2be0c0a90>"
            ]
          },
          "metadata": {
            "tags": []
          },
          "execution_count": 4
        },
        {
          "output_type": "display_data",
          "data": {
            "image/png": "[encoded data removed]",
            "text/plain": [
              "<Figure size 432x288 with 1 Axes>"
            ]
          },
          "metadata": {
            "tags": []
          }
        }
      ]
    },
    {
      "metadata": {
        "id": "2dwjCxBrxQxG",
        "colab_type": "text"
      },
      "cell_type": "markdown",
      "source": [
        "We then use the optimize module from scipy to perform a linear fit to the data by minimizing L1 norm and L2 norm of the residuals, i.e. the misfit between the linear model and the actual data. If we do well we should get a slope close to 0.5 and an intercept close to 3 (see Eq. 1)."
      ]
    },
    {
      "metadata": {
        "id": "DibgShMnyc8F",
        "colab_type": "code",
        "colab": {}
      },
      "cell_type": "code",
      "source": [
        "# form a linear model by defining an function, coeff[0] is the intercept and coeff[1] is the slope\n",
        "linModel = lambda coeff, x: coeff[0] + coeff[1] * x\n",
        "\n",
        "#l1 norm is the "
      ],
      "execution_count": 0,
      "outputs": []
    }
  ]
}